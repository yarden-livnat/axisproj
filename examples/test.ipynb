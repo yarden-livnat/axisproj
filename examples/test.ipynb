{
 "cells": [
  {
   "cell_type": "code",
   "execution_count": 1,
   "metadata": {},
   "outputs": [],
   "source": [
    "import pandas as pd\n",
    "import numpy as np\n",
    "from sklearn.preprocessing import StandardScaler\n",
    "\n",
    "import plotly.graph_objects as go\n",
    "import ipywidgets as widgets\n",
    "\n",
    "from axisproj import optimal, objective, make_basis"
   ]
  },
  {
   "cell_type": "code",
   "execution_count": 2,
   "metadata": {},
   "outputs": [],
   "source": [
    "%load_ext autoreload\n",
    "\n",
    "# For retina displays\n",
    "%config InlineBackend.figure_format ='retina'"
   ]
  },
  {
   "cell_type": "code",
   "execution_count": 3,
   "metadata": {},
   "outputs": [],
   "source": [
    "def prepare(data, method, knn):\n",
    "    if method == 'lpp':\n",
    "        X = data.T\n",
    "        obj = objective.LPPObjective(knn=12,sigma=0.3)\n",
    "        labs = None\n",
    "    elif method == 'lde':\n",
    "        X = data[:, :-1].T\n",
    "        labs = np.ravel(data[:,-1])\n",
    "        obj = objective.LDEObjective(knn=12, labs=labs)\n",
    "    elif method == 'pca':\n",
    "        X = data.T\n",
    "        obj = objective.PCAObjective()\n",
    "        labs = None\n",
    "    else:\n",
    "        print(f'unknown method: {method}')\n",
    "        return\n",
    "    \n",
    "    X = StandardScaler().fit_transform(X.T).T\n",
    "    \n",
    "    return X, obj, labs"
   ]
  },
  {
   "cell_type": "markdown",
   "metadata": {},
   "source": [
    "###  seawater"
   ]
  },
  {
   "cell_type": "code",
   "execution_count": 4,
   "metadata": {},
   "outputs": [],
   "source": [
    "data = pd.read_csv(f'../data/seawater.csv')\n",
    "knn = 12\n",
    "method = 'lpp'\n",
    "X, obj, labs = prepare(data.values, method, knn)\n",
    "colors = X[51,:]\n",
    "colorscale = 'Viridis'\n",
    "showscale=True"
   ]
  },
  {
   "cell_type": "markdown",
   "metadata": {},
   "source": [
    "### wine"
   ]
  },
  {
   "cell_type": "code",
   "execution_count": 8,
   "metadata": {},
   "outputs": [],
   "source": [
    "data = pd.read_csv(f'../data/wine.csv')\n",
    "knn = 12\n",
    "method = 'lde'\n",
    "X, obj, labs = prepare(data.values, method, knn)\n",
    "colors = (labs-1)/2\n",
    "colorscale = [[0, 'red'], [0.5, 'blue'], [1, 'green']]\n",
    "showscale=False"
   ]
  },
  {
   "cell_type": "markdown",
   "metadata": {},
   "source": [
    "### climate"
   ]
  },
  {
   "cell_type": "code",
   "execution_count": 60,
   "metadata": {},
   "outputs": [],
   "source": [
    "data = pd.read_csv(f'../data/climate.csv')\n",
    "knn = 12\n",
    "method = 'lde'\n",
    "X, obj, labs = prepare(data.values, method, knn)\n",
    "colors = labs\n",
    "colorscale = [[0, 'red'], [1, 'blue']]\n",
    "showscale=False"
   ]
  },
  {
   "cell_type": "markdown",
   "metadata": {},
   "source": [
    "### Compute Optimal Projections"
   ]
  },
  {
   "cell_type": "code",
   "execution_count": 9,
   "metadata": {},
   "outputs": [
    {
     "name": "stdout",
     "output_type": "stream",
     "text": [
      "lp:2 ap:2\n",
      "CPU times: user 433 ms, sys: 79.5 ms, total: 513 ms\n",
      "Wall time: 133 ms\n"
     ]
    }
   ],
   "source": [
    "%%time\n",
    "lp, ap = optimal(X, obj, normalize=False)\n",
    "print(f'lp:{len(lp)} ap:{len(ap)}')"
   ]
  },
  {
   "cell_type": "markdown",
   "metadata": {},
   "source": [
    "### Linear Projections"
   ]
  },
  {
   "cell_type": "code",
   "execution_count": 10,
   "metadata": {},
   "outputs": [
    {
     "name": "stdout",
     "output_type": "stream",
     "text": [
      "LP:0\n"
     ]
    },
    {
     "data": {
      "application/vnd.jupyter.widget-view+json": {
       "model_id": "fa52727211034078a455c8e7377c2e6f",
       "version_major": 2,
       "version_minor": 0
      },
      "text/plain": [
       "HBox(children=(FigureWidget({\n",
       "    'data': [{'marker': {'color': array([0. , 0. , 0. , 0. , 0. , 0. , 0. , 0. ,…"
      ]
     },
     "metadata": {},
     "output_type": "display_data"
    },
    {
     "name": "stdout",
     "output_type": "stream",
     "text": [
      "LP:1\n"
     ]
    },
    {
     "data": {
      "application/vnd.jupyter.widget-view+json": {
       "model_id": "289ccd27d88f403d9cb83b5a8954b925",
       "version_major": 2,
       "version_minor": 0
      },
      "text/plain": [
       "HBox(children=(FigureWidget({\n",
       "    'data': [{'marker': {'color': array([0. , 0. , 0. , 0. , 0. , 0. , 0. , 0. ,…"
      ]
     },
     "metadata": {},
     "output_type": "display_data"
    }
   ],
   "source": [
    "for i, p in enumerate(lp):\n",
    "    V = p['V']\n",
    "    Y = X.T.dot(V)\n",
    "    \n",
    "    t1 = go.Scatter(x=Y[:,0], y=Y[:,1], mode=\"markers\", marker=dict(size=5, color=colors,  colorscale=colorscale, showscale=showscale))\n",
    "    f1 = go.FigureWidget(go.Figure(data=[t1]))   \n",
    "    \n",
    "    t2 = go.Bar(y=p['histogram'])\n",
    "    f2 = go.FigureWidget(go.Figure(data=[t2]))   \n",
    "    print(f'LP:{i}')\n",
    "    display(widgets.HBox([f1, f2]))   "
   ]
  },
  {
   "cell_type": "markdown",
   "metadata": {},
   "source": [
    "### Axis Aligned Projections"
   ]
  },
  {
   "cell_type": "code",
   "execution_count": 11,
   "metadata": {},
   "outputs": [
    {
     "name": "stdout",
     "output_type": "stream",
     "text": [
      "LP:[0] alpha:(9, 12)\n"
     ]
    },
    {
     "data": {
      "application/vnd.jupyter.widget-view+json": {
       "model_id": "b66f4d6fb28a45e6bc72b73702c04c03",
       "version_major": 2,
       "version_minor": 0
      },
      "text/plain": [
       "HBox(children=(FigureWidget({\n",
       "    'data': [{'marker': {'color': array([0. , 0. , 0. , 0. , 0. , 0. , 0. , 0. ,…"
      ]
     },
     "metadata": {},
     "output_type": "display_data"
    },
    {
     "name": "stdout",
     "output_type": "stream",
     "text": [
      "LP:[1] alpha:(0, 12)\n"
     ]
    },
    {
     "data": {
      "application/vnd.jupyter.widget-view+json": {
       "model_id": "8ec643fa36db46edb7734fdaa933d50b",
       "version_major": 2,
       "version_minor": 0
      },
      "text/plain": [
       "HBox(children=(FigureWidget({\n",
       "    'data': [{'marker': {'color': array([0. , 0. , 0. , 0. , 0. , 0. , 0. , 0. ,…"
      ]
     },
     "metadata": {},
     "output_type": "display_data"
    }
   ],
   "source": [
    "dim = list(data)\n",
    "for a in ap:\n",
    "    alpha =  a['alpha']\n",
    "    V = make_basis(X.shape[0], alpha)\n",
    "    Y = X.T.dot(V)\n",
    "    t1 = go.Figure(data=[go.Scatter(x=Y[:,0], y=Y[:,1], mode=\"markers\", marker=dict(size=5, color=colors,  colorscale=colorscale, showscale=showscale))],\n",
    "                  layout=go.Layout(\n",
    "                      xaxis_title=dim[alpha[0]], \n",
    "                      yaxis_title=dim[alpha[1]]\n",
    "                  ))\n",
    "    f1 = go.FigureWidget(t1)\n",
    "    \n",
    "    t2 = go.Figure(data=[go.Bar(y=a['histogram'])])\n",
    "    f2 = go.FigureWidget(t2)\n",
    "    print(f'LP:{a[\"LP\"]} alpha:{alpha}')\n",
    "    display(widgets.HBox([f1, f2]))   "
   ]
  },
  {
   "cell_type": "code",
   "execution_count": null,
   "metadata": {},
   "outputs": [],
   "source": []
  },
  {
   "cell_type": "code",
   "execution_count": null,
   "metadata": {},
   "outputs": [],
   "source": []
  }
 ],
 "metadata": {
  "kernelspec": {
   "display_name": "Python 3",
   "language": "python",
   "name": "python3"
  },
  "language_info": {
   "codemirror_mode": {
    "name": "ipython",
    "version": 3
   },
   "file_extension": ".py",
   "mimetype": "text/x-python",
   "name": "python",
   "nbconvert_exporter": "python",
   "pygments_lexer": "ipython3",
   "version": "3.7.3"
  },
  "pycharm": {
   "stem_cell": {
    "cell_type": "raw",
    "metadata": {
     "collapsed": false
    },
    "source": []
   }
  }
 },
 "nbformat": 4,
 "nbformat_minor": 4
}
